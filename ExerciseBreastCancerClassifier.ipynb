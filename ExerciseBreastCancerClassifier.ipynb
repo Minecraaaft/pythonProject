{
 "nbformat": 4,
 "nbformat_minor": 0,
 "metadata": {
  "colab": {
   "provenance": []
  },
  "kernelspec": {
   "name": "python3",
   "display_name": "Python 3"
  },
  "language_info": {
   "name": "python"
  }
 },
 "cells": [
  {
   "cell_type": "code",
   "execution_count": 24,
   "metadata": {
    "id": "0TnEoSJvs-6Q"
   },
   "outputs": [],
   "source": [
    "# In this exercise we wiil look at a\n",
    "# Decision Tree Classifier for Breast Cancer Dataset\n",
    "# included in sklearn.\n",
    "# Sila. 18 Nov. 2022."
   ]
  },
  {
   "cell_type": "code",
   "source": [
    "# Download the Breast Cancer Dataset\n",
    "import numpy as np\n",
    "import pandas as pd\n",
    "\n",
    "from sklearn.datasets import load_breast_cancer;\n",
    "\n",
    "cancer = load_breast_cancer();\n",
    "X = cancer.data;\n",
    "y = cancer.target;"
   ],
   "metadata": {
    "id": "GE4mZTIStav8"
   },
   "execution_count": 25,
   "outputs": []
  },
  {
   "cell_type": "code",
   "source": [
    "# Divide the data into train (80%) and test (20%)\n",
    "from sklearn.model_selection import train_test_split;\n",
    "\n",
    "X_train , X_test, y_train, y_test = train_test_split(X,\n",
    "                                                     y,\n",
    "                                                     test_size = 0.2,\n",
    "                                                     random_state = 0);\n",
    "\n",
    "print(X_train.shape);\n",
    "print(y_train.shape);\n",
    "print(\"\\r\\n\");\n",
    "print(X_test.shape);\n",
    "print(y_test.shape);"
   ],
   "metadata": {
    "colab": {
     "base_uri": "https://localhost:8080/"
    },
    "id": "6jrxnmXUtlP8",
    "outputId": "04f8edc6-5ff9-47a9-cddb-659b153d1144"
   },
   "execution_count": 26,
   "outputs": [
    {
     "name": "stdout",
     "output_type": "stream",
     "text": [
      "(455, 30)\n",
      "(455,)\n",
      "\r\n",
      "\n",
      "(114, 30)\n",
      "(114,)\n"
     ]
    }
   ]
  },
  {
   "cell_type": "code",
   "execution_count": 27,
   "outputs": [
    {
     "data": {
      "text/plain": "DecisionTreeClassifier(criterion='entropy', max_depth=3, random_state=0)",
      "text/html": "<style>#sk-container-id-3 {color: black;background-color: white;}#sk-container-id-3 pre{padding: 0;}#sk-container-id-3 div.sk-toggleable {background-color: white;}#sk-container-id-3 label.sk-toggleable__label {cursor: pointer;display: block;width: 100%;margin-bottom: 0;padding: 0.3em;box-sizing: border-box;text-align: center;}#sk-container-id-3 label.sk-toggleable__label-arrow:before {content: \"▸\";float: left;margin-right: 0.25em;color: #696969;}#sk-container-id-3 label.sk-toggleable__label-arrow:hover:before {color: black;}#sk-container-id-3 div.sk-estimator:hover label.sk-toggleable__label-arrow:before {color: black;}#sk-container-id-3 div.sk-toggleable__content {max-height: 0;max-width: 0;overflow: hidden;text-align: left;background-color: #f0f8ff;}#sk-container-id-3 div.sk-toggleable__content pre {margin: 0.2em;color: black;border-radius: 0.25em;background-color: #f0f8ff;}#sk-container-id-3 input.sk-toggleable__control:checked~div.sk-toggleable__content {max-height: 200px;max-width: 100%;overflow: auto;}#sk-container-id-3 input.sk-toggleable__control:checked~label.sk-toggleable__label-arrow:before {content: \"▾\";}#sk-container-id-3 div.sk-estimator input.sk-toggleable__control:checked~label.sk-toggleable__label {background-color: #d4ebff;}#sk-container-id-3 div.sk-label input.sk-toggleable__control:checked~label.sk-toggleable__label {background-color: #d4ebff;}#sk-container-id-3 input.sk-hidden--visually {border: 0;clip: rect(1px 1px 1px 1px);clip: rect(1px, 1px, 1px, 1px);height: 1px;margin: -1px;overflow: hidden;padding: 0;position: absolute;width: 1px;}#sk-container-id-3 div.sk-estimator {font-family: monospace;background-color: #f0f8ff;border: 1px dotted black;border-radius: 0.25em;box-sizing: border-box;margin-bottom: 0.5em;}#sk-container-id-3 div.sk-estimator:hover {background-color: #d4ebff;}#sk-container-id-3 div.sk-parallel-item::after {content: \"\";width: 100%;border-bottom: 1px solid gray;flex-grow: 1;}#sk-container-id-3 div.sk-label:hover label.sk-toggleable__label {background-color: #d4ebff;}#sk-container-id-3 div.sk-serial::before {content: \"\";position: absolute;border-left: 1px solid gray;box-sizing: border-box;top: 0;bottom: 0;left: 50%;z-index: 0;}#sk-container-id-3 div.sk-serial {display: flex;flex-direction: column;align-items: center;background-color: white;padding-right: 0.2em;padding-left: 0.2em;position: relative;}#sk-container-id-3 div.sk-item {position: relative;z-index: 1;}#sk-container-id-3 div.sk-parallel {display: flex;align-items: stretch;justify-content: center;background-color: white;position: relative;}#sk-container-id-3 div.sk-item::before, #sk-container-id-3 div.sk-parallel-item::before {content: \"\";position: absolute;border-left: 1px solid gray;box-sizing: border-box;top: 0;bottom: 0;left: 50%;z-index: -1;}#sk-container-id-3 div.sk-parallel-item {display: flex;flex-direction: column;z-index: 1;position: relative;background-color: white;}#sk-container-id-3 div.sk-parallel-item:first-child::after {align-self: flex-end;width: 50%;}#sk-container-id-3 div.sk-parallel-item:last-child::after {align-self: flex-start;width: 50%;}#sk-container-id-3 div.sk-parallel-item:only-child::after {width: 0;}#sk-container-id-3 div.sk-dashed-wrapped {border: 1px dashed gray;margin: 0 0.4em 0.5em 0.4em;box-sizing: border-box;padding-bottom: 0.4em;background-color: white;}#sk-container-id-3 div.sk-label label {font-family: monospace;font-weight: bold;display: inline-block;line-height: 1.2em;}#sk-container-id-3 div.sk-label-container {text-align: center;}#sk-container-id-3 div.sk-container {/* jupyter's `normalize.less` sets `[hidden] { display: none; }` but bootstrap.min.css set `[hidden] { display: none !important; }` so we also need the `!important` here to be able to override the default hidden behavior on the sphinx rendered scikit-learn.org. See: https://github.com/scikit-learn/scikit-learn/issues/21755 */display: inline-block !important;position: relative;}#sk-container-id-3 div.sk-text-repr-fallback {display: none;}</style><div id=\"sk-container-id-3\" class=\"sk-top-container\"><div class=\"sk-text-repr-fallback\"><pre>DecisionTreeClassifier(criterion=&#x27;entropy&#x27;, max_depth=3, random_state=0)</pre><b>In a Jupyter environment, please rerun this cell to show the HTML representation or trust the notebook. <br />On GitHub, the HTML representation is unable to render, please try loading this page with nbviewer.org.</b></div><div class=\"sk-container\" hidden><div class=\"sk-item\"><div class=\"sk-estimator sk-toggleable\"><input class=\"sk-toggleable__control sk-hidden--visually\" id=\"sk-estimator-id-3\" type=\"checkbox\" checked><label for=\"sk-estimator-id-3\" class=\"sk-toggleable__label sk-toggleable__label-arrow\">DecisionTreeClassifier</label><div class=\"sk-toggleable__content\"><pre>DecisionTreeClassifier(criterion=&#x27;entropy&#x27;, max_depth=3, random_state=0)</pre></div></div></div></div></div>"
     },
     "execution_count": 27,
     "metadata": {},
     "output_type": "execute_result"
    }
   ],
   "source": [
    "# Decision Tree Classifier* using all the features of the data. Model tested on the test data\n",
    "from sklearn.tree import DecisionTreeClassifier;\n",
    "\n",
    "tree = DecisionTreeClassifier(criterion    =  'entropy',\n",
    "                              max_depth    =  3,\n",
    "                              random_state =  0 );\n",
    "tree.fit(X_train, y_train)"
   ],
   "metadata": {
    "collapsed": false
   }
  },
  {
   "cell_type": "code",
   "execution_count": 28,
   "outputs": [
    {
     "data": {
      "text/plain": "[Text(0.5769230769230769, 0.875, 'worst concave points <= 0.142\\nentropy = 0.945\\nsamples = 455\\nvalue = [165, 290]'),\n Text(0.3076923076923077, 0.625, 'worst perimeter <= 107.75\\nentropy = 0.399\\nsamples = 303\\nvalue = [24, 279]'),\n Text(0.15384615384615385, 0.375, 'symmetry error <= 0.016\\nentropy = 0.133\\nsamples = 269\\nvalue = [5, 264]'),\n Text(0.07692307692307693, 0.125, 'entropy = 0.337\\nsamples = 80\\nvalue = [5, 75]'),\n Text(0.23076923076923078, 0.125, 'entropy = 0.0\\nsamples = 189\\nvalue = [0, 189]'),\n Text(0.46153846153846156, 0.375, 'worst texture <= 20.22\\nentropy = 0.99\\nsamples = 34\\nvalue = [19, 15]'),\n Text(0.38461538461538464, 0.125, 'entropy = 0.0\\nsamples = 11\\nvalue = [0, 11]'),\n Text(0.5384615384615384, 0.125, 'entropy = 0.667\\nsamples = 23\\nvalue = [19, 4]'),\n Text(0.8461538461538461, 0.625, 'worst perimeter <= 112.8\\nentropy = 0.375\\nsamples = 152\\nvalue = [141, 11]'),\n Text(0.7692307692307693, 0.375, 'worst texture <= 27.575\\nentropy = 0.948\\nsamples = 30\\nvalue = [19, 11]'),\n Text(0.6923076923076923, 0.125, 'entropy = 0.964\\nsamples = 18\\nvalue = [7, 11]'),\n Text(0.8461538461538461, 0.125, 'entropy = 0.0\\nsamples = 12\\nvalue = [12, 0]'),\n Text(0.9230769230769231, 0.375, 'entropy = 0.0\\nsamples = 122\\nvalue = [122, 0]')]"
     },
     "execution_count": 28,
     "metadata": {},
     "output_type": "execute_result"
    },
    {
     "data": {
      "text/plain": "<Figure size 640x480 with 1 Axes>",
      "image/png": "[encoded data removed]"
     },
     "metadata": {},
     "output_type": "display_data"
    }
   ],
   "source": [
    "from sklearn.tree import plot_tree;\n",
    "\n",
    "plot_tree(tree,\n",
    "          feature_names = cancer.feature_names,\n",
    "          fontsize      = 8 )"
   ],
   "metadata": {
    "collapsed": false
   }
  },
  {
   "cell_type": "code",
   "execution_count": 29,
   "outputs": [],
   "source": [
    "# see more about decision trees here:\n",
    "# https://towardsdatascience.com/decision-trees-explained-entropy-information-gain-gini-index-ccp-pruning-4d78070db36c"
   ],
   "metadata": {
    "collapsed": false
   }
  },
  {
   "cell_type": "code",
   "execution_count": 30,
   "outputs": [
    {
     "name": "stdout",
     "output_type": "stream",
     "text": [
      "Precision on training set\n"
     ]
    },
    {
     "data": {
      "text/plain": "array([[153,  12],\n       [  4, 286]], dtype=int64)"
     },
     "execution_count": 30,
     "metadata": {},
     "output_type": "execute_result"
    }
   ],
   "source": [
    "from sklearn.metrics import confusion_matrix\n",
    "y_true = y_train\n",
    "y_pred = tree.predict(X_train)\n",
    "print(\"Precision on training set\")\n",
    "confusion_matrix(y_true, y_pred)"
   ],
   "metadata": {
    "collapsed": false
   }
  },
  {
   "cell_type": "code",
   "execution_count": 31,
   "outputs": [
    {
     "name": "stdout",
     "output_type": "stream",
     "text": [
      "Precision on test set\n"
     ]
    },
    {
     "data": {
      "text/plain": "array([[46,  1],\n       [ 5, 62]], dtype=int64)"
     },
     "execution_count": 31,
     "metadata": {},
     "output_type": "execute_result"
    }
   ],
   "source": [
    "y_true = y_test\n",
    "y_pred = tree.predict(X_test)\n",
    "print(\"Precision on test set\")\n",
    "confusion_matrix(y_true, y_pred)"
   ],
   "metadata": {
    "collapsed": false
   }
  },
  {
   "cell_type": "code",
   "execution_count": 32,
   "outputs": [],
   "source": [
    "# Exercise 1 : Improve precision on training set.\n",
    "# Make relevant changes to the code above."
   ],
   "metadata": {
    "collapsed": false
   }
  },
  {
   "cell_type": "code",
   "execution_count": 33,
   "outputs": [
    {
     "name": "stdout",
     "output_type": "stream",
     "text": [
      "Train Set Accuracy :  0.9648351648351648\n",
      "Test Set Accuracy  :  0.9473684210526315\n"
     ]
    }
   ],
   "source": [
    "from sklearn.metrics import accuracy_score;\n",
    "print(\"Train Set Accuracy : \", accuracy_score(y_train, tree.predict(X_train)))\n",
    "y_pred_test = tree.predict(X_test);\n",
    "print(\"Test Set Accuracy  : \", accuracy_score(y_test, tree.predict(X_test)))"
   ],
   "metadata": {
    "collapsed": false
   }
  },
  {
   "cell_type": "code",
   "execution_count": 34,
   "outputs": [],
   "source": [
    "# Gini statistics"
   ],
   "metadata": {
    "collapsed": false
   }
  },
  {
   "cell_type": "code",
   "execution_count": 35,
   "outputs": [],
   "source": [
    "# GINI IMPURITY\n",
    "tree_gin_d1 = DecisionTreeClassifier(criterion    =  'gini',\n",
    "                                     max_depth    =  1,\n",
    "                                     random_state =  0 );\n",
    "tree_gin_d1.fit(X_train, y_train)\n",
    "\n",
    "y_pred_train_gin_d1 = tree_gin_d1.predict(X_train);\n",
    "y_pred_test_gin_d1  = tree_gin_d1.predict(X_test);\n",
    "\n",
    "\n",
    "# ENTROPY IMPURITY\n",
    "tree_ent_d1 = DecisionTreeClassifier(criterion    =  'entropy',\n",
    "                                     max_depth    =  1,\n",
    "                                     random_state =  0 );\n",
    "tree_ent_d1.fit(X_train, y_train)\n",
    "\n",
    "y_pred_train_ent_d1 = tree_ent_d1.predict(X_train);\n",
    "y_pred_test_ent_d1  = tree_ent_d1.predict(X_test);"
   ],
   "metadata": {
    "collapsed": false
   }
  },
  {
   "cell_type": "code",
   "execution_count": 36,
   "outputs": [],
   "source": [
    "# GINI IMPURITY\n",
    "tree_gin_d2 = DecisionTreeClassifier(criterion    =  'gini',\n",
    "                                     max_depth    =  2,\n",
    "                                     random_state =  0 );\n",
    "tree_gin_d2.fit(X_train, y_train)\n",
    "\n",
    "y_pred_train_gin_d2 = tree_gin_d2.predict(X_train);\n",
    "y_pred_test_gin_d2  = tree_gin_d2.predict(X_test);\n",
    "\n",
    "\n",
    "# ENTROPY IMPURITY\n",
    "tree_ent_d2 = DecisionTreeClassifier(criterion    =  'entropy',\n",
    "                                     max_depth    =  2,\n",
    "                                     random_state =  0 );\n",
    "tree_ent_d2.fit(X_train, y_train)\n",
    "\n",
    "y_pred_train_ent_d2 = tree_ent_d2.predict(X_train);\n",
    "y_pred_test_ent_d2  = tree_ent_d2.predict(X_test);"
   ],
   "metadata": {
    "collapsed": false
   }
  },
  {
   "cell_type": "code",
   "execution_count": 37,
   "outputs": [],
   "source": [
    "# GINI IMPURITY\n",
    "tree_gin_d3 = DecisionTreeClassifier(criterion    =  'gini',\n",
    "                                     max_depth    =  3,\n",
    "                                     random_state =  0 );\n",
    "tree_gin_d3.fit(X_train, y_train)\n",
    "\n",
    "y_pred_train_gin_d3 = tree_gin_d2.predict(X_train);\n",
    "y_pred_test_gin_d3  = tree_gin_d2.predict(X_test);\n",
    "\n",
    "\n",
    "# ENTROPY IMPURITY\n",
    "tree_ent_d3 = DecisionTreeClassifier(criterion    =  'entropy',\n",
    "                                     max_depth    =  3,\n",
    "                                     random_state =  0 );\n",
    "tree_ent_d3.fit(X_train, y_train)\n",
    "\n",
    "y_pred_train_ent_d3 = tree_ent_d3.predict(X_train);\n",
    "y_pred_test_ent_d3  = tree_ent_d3.predict(X_test);"
   ],
   "metadata": {
    "collapsed": false
   }
  },
  {
   "cell_type": "code",
   "execution_count": 38,
   "outputs": [],
   "source": [
    "# GINI IMPURITY\n",
    "tree_gin_d7 = DecisionTreeClassifier(criterion    =  'gini',\n",
    "                                     max_depth    =  7,\n",
    "                                     random_state =  0 );\n",
    "tree_gin_d7.fit(X_train, y_train)\n",
    "\n",
    "y_pred_train_gin_d7 = tree_gin_d2.predict(X_train);\n",
    "y_pred_test_gin_d7  = tree_gin_d2.predict(X_test);\n",
    "\n",
    "\n",
    "# ENTROPY IMPURITY\n",
    "tree_ent_d7 = DecisionTreeClassifier(criterion    =  'entropy',\n",
    "                                     max_depth    =  7,\n",
    "                                     random_state =  0 );\n",
    "tree_ent_d7.fit(X_train, y_train)\n",
    "\n",
    "y_pred_train_ent_d7 = tree_ent_d3.predict(X_train);\n",
    "y_pred_test_ent_d7  = tree_ent_d3.predict(X_test);"
   ],
   "metadata": {
    "collapsed": false
   }
  },
  {
   "cell_type": "code",
   "execution_count": 39,
   "outputs": [],
   "source": [
    "# GINI IMPURITY\n",
    "tree_gin_d6 = DecisionTreeClassifier(criterion    =  'gini',\n",
    "                                     max_depth    =  6,\n",
    "                                     random_state =  0 );\n",
    "tree_gin_d6.fit(X_train, y_train)\n",
    "\n",
    "y_pred_train_gin_d6 = tree_gin_d6.predict(X_train);\n",
    "y_pred_test_gin_d6  = tree_gin_d6.predict(X_test);\n",
    "\n",
    "\n",
    "# ENTROPY IMPURITY\n",
    "tree_ent_d6 = DecisionTreeClassifier(criterion    =  'entropy',\n",
    "                                     max_depth    =  6,\n",
    "                                     random_state =  0 );\n",
    "tree_ent_d6.fit(X_train, y_train)\n",
    "\n",
    "y_pred_train_ent_d6 = tree_ent_d6.predict(X_train);\n",
    "y_pred_test_ent_d6  = tree_ent_d6.predict(X_test);"
   ],
   "metadata": {
    "collapsed": false
   }
  },
  {
   "cell_type": "code",
   "execution_count": 40,
   "outputs": [
    {
     "name": "stdout",
     "output_type": "stream",
     "text": [
      "\r\n",
      "DEPTH = 1\n",
      "\tGINI : \n",
      "\t\tTrain Set Accuracy :  0.9230769230769231\n",
      "\t\tTest Set Accuracy  :  0.9035087719298246\n",
      "\tENTROPY : \n",
      "\t\tTrain Set Accuracy :  0.9230769230769231\n",
      "\t\tTest Set Accuracy  :  0.9035087719298246\n"
     ]
    }
   ],
   "source": [
    "print(\"\\r\\nDEPTH = 1\");\n",
    "print(\"\\tGINI : \");\n",
    "print(\"\\t\\tTrain Set Accuracy : \", accuracy_score(y_train, y_pred_train_gin_d1));\n",
    "print(\"\\t\\tTest Set Accuracy  : \", accuracy_score(y_test, y_pred_test_gin_d1));\n",
    "print(\"\\tENTROPY : \");\n",
    "print(\"\\t\\tTrain Set Accuracy : \", accuracy_score(y_train, y_pred_train_ent_d1));\n",
    "print(\"\\t\\tTest Set Accuracy  : \", accuracy_score(y_test, y_pred_test_ent_d1));"
   ],
   "metadata": {
    "collapsed": false
   }
  },
  {
   "cell_type": "code",
   "execution_count": 41,
   "outputs": [
    {
     "name": "stdout",
     "output_type": "stream",
     "text": [
      "\r\n",
      "DEPTH = 2\n",
      "\tGINI : \n",
      "\t\tTrain Set Accuracy :  0.9516483516483516\n",
      "\t\tTest Set Accuracy  :  0.9649122807017544\n",
      "\tENTROPY : \n",
      "\t\tTrain Set Accuracy :  0.9318681318681319\n",
      "\t\tTest Set Accuracy  :  0.9210526315789473\n"
     ]
    }
   ],
   "source": [
    "print(\"\\r\\nDEPTH = 2\");\n",
    "print(\"\\tGINI : \");\n",
    "print(\"\\t\\tTrain Set Accuracy : \", accuracy_score(y_train, y_pred_train_gin_d2));\n",
    "print(\"\\t\\tTest Set Accuracy  : \", accuracy_score(y_test, y_pred_test_gin_d2));\n",
    "print(\"\\tENTROPY : \");\n",
    "print(\"\\t\\tTrain Set Accuracy : \", accuracy_score(y_train, y_pred_train_ent_d2));\n",
    "print(\"\\t\\tTest Set Accuracy  : \", accuracy_score(y_test, y_pred_test_ent_d2));"
   ],
   "metadata": {
    "collapsed": false
   }
  },
  {
   "cell_type": "code",
   "execution_count": 42,
   "outputs": [
    {
     "name": "stdout",
     "output_type": "stream",
     "text": [
      "\r\n",
      "DEPTH = 3\n",
      "\tGINI : \n",
      "\t\tTrain Set Accuracy :  0.9516483516483516\n",
      "\t\tTest Set Accuracy  :  0.9649122807017544\n",
      "\tENTROPY : \n",
      "\t\tTrain Set Accuracy :  0.9648351648351648\n",
      "\t\tTest Set Accuracy  :  0.9473684210526315\n"
     ]
    }
   ],
   "source": [
    "print(\"\\r\\nDEPTH = 3\");\n",
    "print(\"\\tGINI : \");\n",
    "print(\"\\t\\tTrain Set Accuracy : \", accuracy_score(y_train, y_pred_train_gin_d3));\n",
    "print(\"\\t\\tTest Set Accuracy  : \", accuracy_score(y_test, y_pred_test_gin_d3));\n",
    "print(\"\\tENTROPY : \");\n",
    "print(\"\\t\\tTrain Set Accuracy : \", accuracy_score(y_train, y_pred_train_ent_d3));\n",
    "print(\"\\t\\tTest Set Accuracy  : \", accuracy_score(y_test, y_pred_test_ent_d3));"
   ],
   "metadata": {
    "collapsed": false
   }
  },
  {
   "cell_type": "code",
   "execution_count": 43,
   "outputs": [
    {
     "name": "stdout",
     "output_type": "stream",
     "text": [
      "\r\n",
      "DEPTH = 7\n",
      "\tGINI : \n",
      "\t\tTrain Set Accuracy :  0.9516483516483516\n",
      "\t\tTest Set Accuracy  :  0.9649122807017544\n",
      "\tENTROPY : \n",
      "\t\tTrain Set Accuracy :  0.9648351648351648\n",
      "\t\tTest Set Accuracy  :  0.9473684210526315\n"
     ]
    }
   ],
   "source": [
    "print(\"\\r\\nDEPTH = 7\");\n",
    "print(\"\\tGINI : \");\n",
    "print(\"\\t\\tTrain Set Accuracy : \", accuracy_score(y_train, y_pred_train_gin_d7));\n",
    "print(\"\\t\\tTest Set Accuracy  : \", accuracy_score(y_test, y_pred_test_gin_d7));\n",
    "print(\"\\tENTROPY : \");\n",
    "print(\"\\t\\tTrain Set Accuracy : \", accuracy_score(y_train, y_pred_train_ent_d7));\n",
    "print(\"\\t\\tTest Set Accuracy  : \", accuracy_score(y_test, y_pred_test_ent_d7));"
   ],
   "metadata": {
    "collapsed": false
   }
  },
  {
   "cell_type": "code",
   "source": [
    "print(\"\\r\\nDEPTH = 6\");\n",
    "print(\"\\tGINI : \");\n",
    "print(\"\\t\\tTrain Set Accuracy : \", accuracy_score(y_train, y_pred_train_gin_d6));\n",
    "print(\"\\t\\tTest Set Accuracy  : \", accuracy_score(y_test, y_pred_test_gin_d6));\n",
    "print(\"\\tENTROPY : \");\n",
    "print(\"\\t\\tTrain Set Accuracy : \", accuracy_score(y_train, y_pred_train_ent_d6));\n",
    "print(\"\\t\\tTest Set Accuracy  : \", accuracy_score(y_test, y_pred_test_ent_d6));"
   ],
   "metadata": {
    "colab": {
     "base_uri": "https://localhost:8080/"
    },
    "id": "t0ZH_ngey0vI",
    "outputId": "9a45df49-3cca-4bb5-fe70-70dcf1dde908"
   },
   "execution_count": 44,
   "outputs": [
    {
     "name": "stdout",
     "output_type": "stream",
     "text": [
      "\r\n",
      "DEPTH = 6\n",
      "\tGINI : \n",
      "\t\tTrain Set Accuracy :  0.9934065934065934\n",
      "\t\tTest Set Accuracy  :  0.9473684210526315\n",
      "\tENTROPY : \n",
      "\t\tTrain Set Accuracy :  0.9934065934065934\n",
      "\t\tTest Set Accuracy  :  0.9035087719298246\n"
     ]
    }
   ]
  },
  {
   "cell_type": "code",
   "source": [
    "# Exercise 2\n",
    "# Make similar code as above for depth 2,3 and 7 (8)"
   ],
   "metadata": {
    "id": "ndtChi-oy4Ur"
   },
   "execution_count": 45,
   "outputs": []
  },
  {
   "cell_type": "code",
   "source": [
    "print(\"Test Set Accuracy d = 2 : \", accuracy_score(y_test, y_pred_test_gin_d1));\n",
    "print(\"Test Set Accuracy d = 3 : \", accuracy_score(y_test, y_pred_test_gin_d6));"
   ],
   "metadata": {
    "colab": {
     "base_uri": "https://localhost:8080/"
    },
    "id": "WfmQYcJVzOck",
    "outputId": "e64826e5-d841-41ee-bbbb-93b372c32088"
   },
   "execution_count": 46,
   "outputs": [
    {
     "name": "stdout",
     "output_type": "stream",
     "text": [
      "Test Set Accuracy d = 2 :  0.9035087719298246\n",
      "Test Set Accuracy d = 3 :  0.9473684210526315\n"
     ]
    }
   ]
  },
  {
   "cell_type": "code",
   "source": [
    "# Exercise 3\n",
    "# For which tree height (1 -7) do we find the highest accuracy for test set ?"
   ],
   "metadata": {
    "id": "9ZtphaXBzV0T"
   },
   "execution_count": 47,
   "outputs": []
  },
  {
   "cell_type": "code",
   "source": [
    "from sklearn.svm import SVC;\n",
    "svm = SVC(kernel = \"rbf\", C = 1.0, random_state = 0);\n",
    "svm.fit(X_train, y_train);\n",
    "\n",
    "Y_pred_train = svm.predict(X_train);\n",
    "print(\"SVM Train Set Accuracy : \", accuracy_score(y_train, Y_pred_train));\n",
    "\n",
    "Y_pred_test = svm.predict(X_test);\n",
    "print(\"SVM Test Set Accuracy  : \", accuracy_score(y_test, Y_pred_test));"
   ],
   "metadata": {
    "colab": {
     "base_uri": "https://localhost:8080/"
    },
    "id": "xT_7PUL300cm",
    "outputId": "da9ca1b2-aa1b-4349-dcdd-128f5522634b"
   },
   "execution_count": 48,
   "outputs": [
    {
     "name": "stdout",
     "output_type": "stream",
     "text": [
      "SVM Train Set Accuracy :  0.9098901098901099\n",
      "SVM Test Set Accuracy  :  0.9298245614035088\n"
     ]
    }
   ]
  },
  {
   "cell_type": "code",
   "source": [
    "# Exercise 4\n",
    "# Improve the accuracy of the SVM classifier."
   ],
   "metadata": {
    "id": "wRWG6kaU1qMp"
   },
   "execution_count": 49,
   "outputs": []
  },
  {
   "cell_type": "code",
   "source": [
    "from sklearn.linear_model import LogisticRegression\n",
    "lr = LogisticRegression(penalty = 'l2', solver = \"lbfgs\", C= 1.0, random_state = 0, max_iter=100000);\n",
    "lr.fit(X_train, y_train);\n",
    "\n",
    "Y_pred_train = lr.predict(X_train);\n",
    "print(\"LR Train Set Accuracy : \", accuracy_score(y_train, Y_pred_train));\n",
    "\n",
    "Y_pred_test = lr.predict(X_test);\n",
    "print(\"LR Test Set Accuracy  : \", accuracy_score(y_test, Y_pred_test));"
   ],
   "metadata": {
    "colab": {
     "base_uri": "https://localhost:8080/"
    },
    "id": "t5VrD1Jz138t",
    "outputId": "af40941e-34ab-49be-e51b-bfdad4501ef9"
   },
   "execution_count": 50,
   "outputs": [
    {
     "name": "stdout",
     "output_type": "stream",
     "text": [
      "LR Train Set Accuracy :  0.9626373626373627\n",
      "LR Test Set Accuracy  :  0.9473684210526315\n"
     ]
    }
   ]
  },
  {
   "cell_type": "code",
   "source": [
    "# Exercise 5\n",
    "# Improve the accuracy of the Logistics Regression classifier."
   ],
   "metadata": {
    "id": "XCqhLokq2pal"
   },
   "execution_count": 54,
   "outputs": []
  },
  {
   "cell_type": "code",
   "source": [
    "# Exercise 6\n",
    "# Make a neural net classifier.\n"
   ],
   "metadata": {
    "id": "AidnONxB2ze5"
   },
   "execution_count": 55,
   "outputs": []
  },
  {
   "cell_type": "code",
   "source": [
    "# Exercise 7\n",
    "# In what way do you achieve the highest accuracy?"
   ],
   "metadata": {
    "id": "Odbk6TrW29NG"
   },
   "execution_count": 59,
   "outputs": []
  },
  {
   "cell_type": "code",
   "execution_count": 65,
   "outputs": [
    {
     "data": {
      "text/plain": "MLPClassifier(hidden_layer_sizes=[55, 20], random_state=0)",
      "text/html": "<style>#sk-container-id-8 {color: black;background-color: white;}#sk-container-id-8 pre{padding: 0;}#sk-container-id-8 div.sk-toggleable {background-color: white;}#sk-container-id-8 label.sk-toggleable__label {cursor: pointer;display: block;width: 100%;margin-bottom: 0;padding: 0.3em;box-sizing: border-box;text-align: center;}#sk-container-id-8 label.sk-toggleable__label-arrow:before {content: \"▸\";float: left;margin-right: 0.25em;color: #696969;}#sk-container-id-8 label.sk-toggleable__label-arrow:hover:before {color: black;}#sk-container-id-8 div.sk-estimator:hover label.sk-toggleable__label-arrow:before {color: black;}#sk-container-id-8 div.sk-toggleable__content {max-height: 0;max-width: 0;overflow: hidden;text-align: left;background-color: #f0f8ff;}#sk-container-id-8 div.sk-toggleable__content pre {margin: 0.2em;color: black;border-radius: 0.25em;background-color: #f0f8ff;}#sk-container-id-8 input.sk-toggleable__control:checked~div.sk-toggleable__content {max-height: 200px;max-width: 100%;overflow: auto;}#sk-container-id-8 input.sk-toggleable__control:checked~label.sk-toggleable__label-arrow:before {content: \"▾\";}#sk-container-id-8 div.sk-estimator input.sk-toggleable__control:checked~label.sk-toggleable__label {background-color: #d4ebff;}#sk-container-id-8 div.sk-label input.sk-toggleable__control:checked~label.sk-toggleable__label {background-color: #d4ebff;}#sk-container-id-8 input.sk-hidden--visually {border: 0;clip: rect(1px 1px 1px 1px);clip: rect(1px, 1px, 1px, 1px);height: 1px;margin: -1px;overflow: hidden;padding: 0;position: absolute;width: 1px;}#sk-container-id-8 div.sk-estimator {font-family: monospace;background-color: #f0f8ff;border: 1px dotted black;border-radius: 0.25em;box-sizing: border-box;margin-bottom: 0.5em;}#sk-container-id-8 div.sk-estimator:hover {background-color: #d4ebff;}#sk-container-id-8 div.sk-parallel-item::after {content: \"\";width: 100%;border-bottom: 1px solid gray;flex-grow: 1;}#sk-container-id-8 div.sk-label:hover label.sk-toggleable__label {background-color: #d4ebff;}#sk-container-id-8 div.sk-serial::before {content: \"\";position: absolute;border-left: 1px solid gray;box-sizing: border-box;top: 0;bottom: 0;left: 50%;z-index: 0;}#sk-container-id-8 div.sk-serial {display: flex;flex-direction: column;align-items: center;background-color: white;padding-right: 0.2em;padding-left: 0.2em;position: relative;}#sk-container-id-8 div.sk-item {position: relative;z-index: 1;}#sk-container-id-8 div.sk-parallel {display: flex;align-items: stretch;justify-content: center;background-color: white;position: relative;}#sk-container-id-8 div.sk-item::before, #sk-container-id-8 div.sk-parallel-item::before {content: \"\";position: absolute;border-left: 1px solid gray;box-sizing: border-box;top: 0;bottom: 0;left: 50%;z-index: -1;}#sk-container-id-8 div.sk-parallel-item {display: flex;flex-direction: column;z-index: 1;position: relative;background-color: white;}#sk-container-id-8 div.sk-parallel-item:first-child::after {align-self: flex-end;width: 50%;}#sk-container-id-8 div.sk-parallel-item:last-child::after {align-self: flex-start;width: 50%;}#sk-container-id-8 div.sk-parallel-item:only-child::after {width: 0;}#sk-container-id-8 div.sk-dashed-wrapped {border: 1px dashed gray;margin: 0 0.4em 0.5em 0.4em;box-sizing: border-box;padding-bottom: 0.4em;background-color: white;}#sk-container-id-8 div.sk-label label {font-family: monospace;font-weight: bold;display: inline-block;line-height: 1.2em;}#sk-container-id-8 div.sk-label-container {text-align: center;}#sk-container-id-8 div.sk-container {/* jupyter's `normalize.less` sets `[hidden] { display: none; }` but bootstrap.min.css set `[hidden] { display: none !important; }` so we also need the `!important` here to be able to override the default hidden behavior on the sphinx rendered scikit-learn.org. See: https://github.com/scikit-learn/scikit-learn/issues/21755 */display: inline-block !important;position: relative;}#sk-container-id-8 div.sk-text-repr-fallback {display: none;}</style><div id=\"sk-container-id-8\" class=\"sk-top-container\"><div class=\"sk-text-repr-fallback\"><pre>MLPClassifier(hidden_layer_sizes=[55, 20], random_state=0)</pre><b>In a Jupyter environment, please rerun this cell to show the HTML representation or trust the notebook. <br />On GitHub, the HTML representation is unable to render, please try loading this page with nbviewer.org.</b></div><div class=\"sk-container\" hidden><div class=\"sk-item\"><div class=\"sk-estimator sk-toggleable\"><input class=\"sk-toggleable__control sk-hidden--visually\" id=\"sk-estimator-id-8\" type=\"checkbox\" checked><label for=\"sk-estimator-id-8\" class=\"sk-toggleable__label sk-toggleable__label-arrow\">MLPClassifier</label><div class=\"sk-toggleable__content\"><pre>MLPClassifier(hidden_layer_sizes=[55, 20], random_state=0)</pre></div></div></div></div></div>"
     },
     "execution_count": 65,
     "metadata": {},
     "output_type": "execute_result"
    }
   ],
   "source": [
    "from sklearn.neural_network import MLPClassifier\n",
    "from sklearn.model_selection import train_test_split\n",
    "\n",
    "mlp = MLPClassifier(random_state=0, hidden_layer_sizes=[55, 20])\n",
    "\n",
    "mlp.fit(X_train, y_train)"
   ],
   "metadata": {
    "collapsed": false
   }
  },
  {
   "cell_type": "code",
   "execution_count": 66,
   "outputs": [
    {
     "name": "stdout",
     "output_type": "stream",
     "text": [
      "MLP accuracy in test set\n",
      "0.9298245614035088\n",
      "[[42  5]\n",
      " [ 3 64]]\n"
     ]
    }
   ],
   "source": [
    "print(\"MLP accuracy in test set\")\n",
    "predsNN = mlp.predict(X_test)\n",
    "print(accuracy_score(y_test,predsNN))\n",
    "print(confusion_matrix(y_test,predsNN))"
   ],
   "metadata": {
    "collapsed": false
   }
  },
  {
   "cell_type": "code",
   "execution_count": null,
   "outputs": [],
   "source": [],
   "metadata": {
    "collapsed": false
   }
  }
 ]
}
